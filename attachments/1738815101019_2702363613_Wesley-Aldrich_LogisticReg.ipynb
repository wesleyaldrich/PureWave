{
  "nbformat": 4,
  "nbformat_minor": 0,
  "metadata": {
    "colab": {
      "provenance": []
    },
    "kernelspec": {
      "name": "python3",
      "display_name": "Python 3"
    },
    "language_info": {
      "name": "python"
    }
  },
  "cells": [
    {
      "cell_type": "markdown",
      "source": [
        "# LOGISTIC REGRESSION - TITANIC DATASET\n",
        "# WESLEY ALDRICH\n",
        "# 2702363613\n",
        "# PPTI 17"
      ],
      "metadata": {
        "id": "Pl7APOR4amat"
      }
    },
    {
      "cell_type": "code",
      "execution_count": 1,
      "metadata": {
        "colab": {
          "base_uri": "https://localhost:8080/"
        },
        "id": "aDNKOE1oKuEZ",
        "outputId": "aab2aee6-3c6e-4c13-a5a9-89e975fa69ac"
      },
      "outputs": [
        {
          "output_type": "stream",
          "name": "stdout",
          "text": [
            "<class 'pandas.core.frame.DataFrame'>\n",
            "RangeIndex: 891 entries, 0 to 890\n",
            "Data columns (total 8 columns):\n",
            " #   Column    Non-Null Count  Dtype  \n",
            "---  ------    --------------  -----  \n",
            " 0   Survived  891 non-null    int64  \n",
            " 1   Pclass    891 non-null    int64  \n",
            " 2   Sex       891 non-null    object \n",
            " 3   Age       714 non-null    float64\n",
            " 4   SibSp     891 non-null    int64  \n",
            " 5   Parch     891 non-null    int64  \n",
            " 6   Fare      891 non-null    float64\n",
            " 7   Embarked  891 non-null    object \n",
            "dtypes: float64(2), int64(4), object(2)\n",
            "memory usage: 55.8+ KB\n"
          ]
        }
      ],
      "source": [
        "import pandas as pd\n",
        "from sklearn.linear_model import LogisticRegression\n",
        "from sklearn.model_selection import train_test_split\n",
        "from sklearn.metrics import classification_report\n",
        "\n",
        "df = pd.read_csv('titanic.csv')\n",
        "\n",
        "# remove some columns, fill missing value (except Age)\n",
        "df_dropped = df.drop(columns=['PassengerId', 'Cabin', 'Name', 'Ticket'])\n",
        "df_dropped['Embarked'] = df_dropped['Embarked'].fillna('Unknown')\n",
        "\n",
        "df_dropped.info()"
      ]
    },
    {
      "cell_type": "code",
      "source": [
        "import math\n",
        "\n",
        "def handle_nan(value):\n",
        "    return 0 if math.isnan(value) else value"
      ],
      "metadata": {
        "id": "LP-Y5pXgXYJv"
      },
      "execution_count": 2,
      "outputs": []
    },
    {
      "cell_type": "code",
      "source": [
        "def wesley_process(X_train, X_test, y_train, y_test):\n",
        "  df_train = X_train.copy()\n",
        "  df_train['Survived'] = y_train\n",
        "\n",
        "  df_test = X_test.copy()\n",
        "  df_test['Survived'] = y_test\n",
        "\n",
        "  train_mean = df_train['Age'].mean()\n",
        "\n",
        "  # replace the na values for age with the mean of age.\n",
        "  # note that we should only use the Age mean of df_train\n",
        "  # since it's illegal to calculate anything based on df_test.\n",
        "  df_train['Age'] = df_train['Age'].fillna(train_mean)\n",
        "  df_test['Age'] = df_test['Age'].fillna(train_mean)\n",
        "\n",
        "  first_survival_rate = df_train[df_train['Pclass'] == 1]['Survived'].mean() * 100\n",
        "  second_survival_rate = df_train[df_train['Pclass'] == 2]['Survived'].mean() * 100\n",
        "  third_survival_rate = df_train[df_train['Pclass'] == 3]['Survived'].mean() * 100\n",
        "\n",
        "  def Pclass(class_num):\n",
        "      if class_num == 1:\n",
        "          return 3*handle_nan(first_survival_rate)\n",
        "      elif class_num == 2:\n",
        "          return 2*handle_nan(second_survival_rate)\n",
        "      else:\n",
        "          return 1*handle_nan(third_survival_rate)\n",
        "\n",
        "  df_train[\"Pclass\"] = df_train[\"Pclass\"].apply(Pclass)\n",
        "  df_test[\"Pclass\"] = df_test[\"Pclass\"].apply(Pclass)\n",
        "\n",
        "  male_survival_rate = df_train[df_train['Sex'] == 'male']['Survived'].mean() * 100\n",
        "  female_survival_rate = df_train[df_train['Sex'] == 'female']['Survived'].mean() * 100\n",
        "\n",
        "  def Gender(gender):\n",
        "      if gender == 'male':\n",
        "          return handle_nan(male_survival_rate)\n",
        "      else:\n",
        "          return handle_nan(female_survival_rate)\n",
        "\n",
        "  df_train[\"Sex\"] = df_train[\"Sex\"].apply(Gender)\n",
        "  df_test[\"Sex\"] = df_test[\"Sex\"].apply(Gender)\n",
        "\n",
        "  S_survival_rate = df_train[df_train['Embarked'] == 'S']['Survived'].mean() * 100\n",
        "  C_survival_rate = df_train[df_train['Embarked'] == 'C']['Survived'].mean() * 100\n",
        "  Q_survival_rate = df_train[df_train['Embarked'] == 'Q']['Survived'].mean() * 100\n",
        "  U_survival_rate = df_train[df_train['Embarked'] == 'Unknown']['Survived'].mean() * 100\n",
        "\n",
        "  def Embarked(embarked):\n",
        "      if embarked == 'S':\n",
        "          return S_survival_rate\n",
        "      elif embarked == 'C':\n",
        "          return C_survival_rate\n",
        "      elif embarked == 'Q':\n",
        "          return Q_survival_rate\n",
        "      else:\n",
        "          return handle_nan(U_survival_rate)\n",
        "\n",
        "  df_train[\"Embarked\"] = df_train[\"Embarked\"].apply(Embarked)\n",
        "  df_test[\"Embarked\"] = df_test[\"Embarked\"].apply(Embarked)\n",
        "\n",
        "  X_train = df_train.drop(columns=['Survived'])\n",
        "  y_train = df_train['Survived']\n",
        "  X_test = df_test.drop(columns=['Survived'])\n",
        "  y_test = df_test['Survived']\n",
        "\n",
        "  model = LogisticRegression(solver=\"sag\", max_iter = 9999)\n",
        "  model.fit(X_train, y_train)\n",
        "\n",
        "  y_pred = model.predict(X_test)\n",
        "\n",
        "  report = classification_report(y_test, y_pred, output_dict=True)\n",
        "  f1_avg = report['macro avg']['f1-score']\n",
        "\n",
        "  return f1_avg"
      ],
      "metadata": {
        "id": "_4r3x--XMU2b"
      },
      "execution_count": 3,
      "outputs": []
    },
    {
      "cell_type": "code",
      "source": [
        "from sklearn.metrics import classification_report\n",
        "import numpy as np\n",
        "\n",
        "X = df_dropped.drop(columns=['Survived'])\n",
        "y = df_dropped['Survived']\n",
        "\n",
        "# check for a range of random states\n",
        "random_states = range(0, 128)\n",
        "f1_avgs = []\n",
        "\n",
        "for state in random_states:\n",
        "  X_train, X_test, y_train, y_test = train_test_split(X, y, test_size=0.3, random_state=state)\n",
        "\n",
        "  f1_avg = wesley_process(X_train, X_test, y_train, y_test)\n",
        "\n",
        "  f1_avgs.append(f1_avg)\n",
        "\n",
        "min_state = random_states[np.argmin(f1_avgs)]\n",
        "max_state = random_states[np.argmax(f1_avgs)]\n",
        "\n",
        "print(f\"Minimum f1-score avg: {min(f1_avgs):.4f} at random_state {min_state}\")\n",
        "print(f\"Maximum f1-score avg: {max(f1_avgs):.4f} at random_state {max_state}\")"
      ],
      "metadata": {
        "colab": {
          "base_uri": "https://localhost:8080/"
        },
        "id": "vn95RvskLD6G",
        "outputId": "8cbea7f2-f40f-4a0b-a7c0-73cefdc615a6"
      },
      "execution_count": 4,
      "outputs": [
        {
          "output_type": "stream",
          "name": "stdout",
          "text": [
            "Minimum f1-score avg: 0.7181 at random_state 114\n",
            "Maximum f1-score avg: 0.8494 at random_state 6\n"
          ]
        }
      ]
    }
  ]
}